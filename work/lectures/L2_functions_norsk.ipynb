{
 "cells": [
  {
   "cell_type": "markdown",
   "metadata": {
    "tags": []
   },
   "source": [
    "# Lecture 2: Working with functions\n",
    "\n",
    "Basert på \n",
    "- Software Carpentry's \"Programming with Python\" https://software-carpentry.org/lessons/\n",
    "- Data Carpentry's \"Data Analysis and Visualization in Python for Ecologists\" https://datacarpentry.org/lessons/\n",
    "\n",
    "### Objektiver\n",
    "- Definer en funksjon som tar inn parametere.\n",
    "- Returner en verdi.\n",
    "- Sett inn default-verdier for parametere.\n",
    "- Hvorfor bruke små, single-purpose funksjoner.\n",
    "\n",
    "### Hvorfor\n",
    "- Unngå å måtte skrive samme koden flere ganger med forskjellige tall/variabler.\n",
    "+ Gjenbrukbar\n",
    "+ Enkel å endre\n",
    "+ Reduserer sannsynligheten for bugs\n",
    "\n",
    "\n",
    "\n",
    "Python tilbyr **functions** \n",
    "  \n",
    "Lager funksjonen fahr_to_celsius som konverterer temperaturer fra Fahrenheit til Celsius:"
   ]
  },
  {
   "cell_type": "code",
   "execution_count": null,
   "metadata": {},
   "outputs": [],
   "source": [
    "def fahr_to_celsius(temp):\n",
    "    return (temp - 32) * (5/9)"
   ]
  },
  {
   "cell_type": "markdown",
   "metadata": {},
   "source": [
    "- Funksjon defineres med nøkkelordet `def` fulgt av navnet, parentes med parametere\n",
    "- Den indenterte delen kalt 'kroppen' blir kjørt når funksjonen blir kalt.\n",
    "- Funksjonen kan returnere data vha kodeordet `return` og hva som skal returneres"
   ]
  },
  {
   "cell_type": "code",
   "execution_count": null,
   "metadata": {},
   "outputs": [],
   "source": [
    "fahr_to_celsius(68)"
   ]
  },
  {
   "cell_type": "markdown",
   "metadata": {},
   "source": [
    "Denne kommandoen kjører funksjonen vår med en gitt input, her 68 fahrenheit"
   ]
  },
  {
   "cell_type": "code",
   "execution_count": null,
   "metadata": {},
   "outputs": [],
   "source": [
    "print('freezing point of water: {} C'.format(fahr_to_celsius(32)))\n",
    "print('boiling point of water: {} C'.format(fahr_to_celsius(212)))"
   ]
  },
  {
   "cell_type": "markdown",
   "metadata": {},
   "source": [
    "Videre kan vi konvertere celsius til Kelvin"
   ]
  },
  {
   "cell_type": "code",
   "execution_count": null,
   "metadata": {},
   "outputs": [],
   "source": [
    "def celsius_to_kelvin(temp_c):\n",
    "    return temp_c + 273.15\n",
    "\n",
    "print('freezing point of water in Kelvin:', celsius_to_kelvin(100))\n"
   ]
  },
  {
   "cell_type": "markdown",
   "metadata": {},
   "source": [
    "Hva med Fahrenheit til Kelvin. Bruk de funksjonene vi allerede har lagd:"
   ]
  },
  {
   "cell_type": "code",
   "execution_count": null,
   "metadata": {},
   "outputs": [],
   "source": [
    "def fahr_to_kelvin(temp_f):\n",
    "    temp_c = fahr_to_celsius(temp_f)\n",
    "    temp_k = celsius_to_kelvin(temp_c)\n",
    "    return temp_k\n",
    "\n",
    "print('boiling point of water in Kelvin:', fahr_to_kelvin(212))"
   ]
  },
  {
   "cell_type": "markdown",
   "metadata": {},
   "source": [
    "Dette er første smak på hvordan større programmer er bygd:\n",
    "- enkle operasjoner, kombinert i større sammenstillinger\n",
    "\n",
    "\n",
    "temp_c, temp_k etc er kalt **lokale variabler**"
   ]
  },
  {
   "cell_type": "code",
   "execution_count": null,
   "metadata": {},
   "outputs": [],
   "source": [
    "print('Again, temperature in Kelvin was:', temp_k)"
   ]
  },
  {
   "cell_type": "markdown",
   "metadata": {},
   "source": [
    "Man kan heller lagre resultatet av funksjonen i en **variabel**"
   ]
  },
  {
   "cell_type": "code",
   "execution_count": null,
   "metadata": {},
   "outputs": [],
   "source": [
    "temp_kelvin = fahr_to_celsius(212)"
   ]
  },
  {
   "cell_type": "markdown",
   "metadata": {},
   "source": [
    "Variabel temp_kelvin er nå **global**\n",
    "\n",
    "Kan nå, til og med, leses **inni** en funksjon"
   ]
  },
  {
   "cell_type": "code",
   "execution_count": null,
   "metadata": {},
   "outputs": [],
   "source": [
    "def print_temperatures():\n",
    "    print('temperature in Fahrenheit was:', temp_fahr)\n",
    "    print('temperature in Kelvin was:', temp_kelvin)\n",
    "\n",
    "temp_fahr = 212.0\n",
    "temp_kelvin = fahrenheit_to_kelvin(temp_fahr)\n",
    "\n",
    "print_temperatures()"
   ]
  },
  {
   "cell_type": "markdown",
   "metadata": {},
   "source": [
    "Dette er en vanlig kilde til feil, så **unngå** å bruke **lokale variabler** med samme navn som **globale**. \n",
    "Evt gi alle funksjoner parametere med samme navn."
   ]
  },
  {
   "cell_type": "code",
   "execution_count": null,
   "metadata": {},
   "outputs": [],
   "source": [
    "def print_temperatures(temp_fahr, temp_kelvin):\n",
    "    print('temperature in Fahrenheit was:', temp_fahr)\n",
    "    print('temperature in Kelvin was:', temp_kelvin)\n",
    "\n",
    "temp_fahr = 212.0\n",
    "temp_kelvin = fahrenheit_to_kelvin(temp_fahr)\n",
    "\n",
    "print_temperatures(temp_fahr, temp_kelvin)"
   ]
  },
  {
   "cell_type": "markdown",
   "metadata": {},
   "source": [
    "Merk at funksjonen ikke her trenger å ha en return-statement\n",
    "\n",
    "Funksjonen kan ta **så mange argumenter vi vil**, og leses her som **positional** arguments."
   ]
  },
  {
   "cell_type": "code",
   "execution_count": null,
   "metadata": {},
   "outputs": [],
   "source": [
    "def cylinder_volume(radius, height):\n",
    "    from math import pi\n",
    "    return pi * radius ** 2 * height\n",
    "\n",
    "print(cylinder_volume(1, 2))"
   ]
  },
  {
   "cell_type": "markdown",
   "metadata": {},
   "source": [
    "Ved å spesifisere parameternavnet så kan man sortere argumentene som man vil\n",
    "\n",
    "(**keyword** arguments)"
   ]
  },
  {
   "cell_type": "code",
   "execution_count": null,
   "metadata": {},
   "outputs": [],
   "source": [
    "cylinder_volume(height=2, radius=1)"
   ]
  },
  {
   "cell_type": "markdown",
   "metadata": {},
   "source": [
    "Kan *kombinere* **positional** og **keyword** arguments"
   ]
  },
  {
   "cell_type": "code",
   "execution_count": null,
   "metadata": {},
   "outputs": [],
   "source": [
    "def box_volume(a, b, c):\n",
    "    return a * b * b"
   ]
  },
  {
   "cell_type": "code",
   "execution_count": null,
   "metadata": {},
   "outputs": [],
   "source": [
    "box_volume(2, c=1, b=3)"
   ]
  },
  {
   "cell_type": "code",
   "execution_count": null,
   "metadata": {},
   "outputs": [],
   "source": [
    "box_volume(c=1, 2, a=4)"
   ]
  },
  {
   "cell_type": "markdown",
   "metadata": {},
   "source": [
    "Kan ha **default verdier** til argumentene"
   ]
  },
  {
   "cell_type": "code",
   "execution_count": null,
   "metadata": {},
   "outputs": [],
   "source": [
    "def cylinder_volume(radius, height, debug=False):\n",
    "    from math import pi\n",
    "    if debug:\n",
    "        print(\"Arguments are: \", radius, height)\n",
    "    return pi * radius ** 2 * height"
   ]
  },
  {
   "cell_type": "code",
   "execution_count": null,
   "metadata": {},
   "outputs": [],
   "source": [
    "cylinder_volume(1, 2)"
   ]
  },
  {
   "cell_type": "code",
   "execution_count": null,
   "metadata": {},
   "outputs": [],
   "source": [
    "cylinder_volume(1, 2, True)"
   ]
  },
  {
   "cell_type": "markdown",
   "metadata": {},
   "source": [
    "Funksjonene våre har hittil vært små og selvforklarende, men ettersom programmene våre vokser bør man legge inn dokumentasjon i form av **docstrings** og **kommentarer**."
   ]
  },
  {
   "cell_type": "code",
   "execution_count": null,
   "metadata": {},
   "outputs": [],
   "source": [
    "def cylinder_volume(radius, height, debug=False):\n",
    "    \"\"\"Function that returns the volume of a cylinder given its radius and height.\"\"\"\n",
    "    from math import pi\n",
    "    if debug: # print arguments in debug mode\n",
    "        print(\"Arguments are: \", radius, height)\n",
    "    return pi * radius ** 2 * height"
   ]
  },
  {
   "cell_type": "markdown",
   "metadata": {},
   "source": [
    "**\\*args and \\*\\*kwargs**.\n",
    "Noen ganger må vi kunne ta inn et vilkårlig antall argumenter.\n",
    "Ved et vilkårlig antall **positional arguments** brukes ***args** \n",
    "\n",
    "Navnet \"args\" er konvensjon"
   ]
  },
  {
   "cell_type": "code",
   "execution_count": null,
   "metadata": {},
   "outputs": [],
   "source": [
    "def sum_values(*args):\n",
    "    sum = 0\n",
    "    for a in args:\n",
    "        sum += a\n",
    "    return sum"
   ]
  },
  {
   "cell_type": "code",
   "execution_count": null,
   "metadata": {},
   "outputs": [],
   "source": [
    "sum_values(3, 7, 23, 500)"
   ]
  },
  {
   "cell_type": "code",
   "execution_count": null,
   "metadata": {},
   "outputs": [],
   "source": [
    "sum_values(10, 30)"
   ]
  },
  {
   "cell_type": "markdown",
   "metadata": {},
   "source": [
    "Ved et vilkårlig antall **keyword arguments** brukes ****kwargs**\n",
    "\n",
    "Igjen, navnet \"kwargs\" er kun kodekonvensjon"
   ]
  },
  {
   "cell_type": "code",
   "execution_count": null,
   "metadata": {},
   "outputs": [],
   "source": [
    "def equation(x, **kwargs):\n",
    "    y = 0\n",
    "    print(kwargs.items())\n",
    "    for key, value in kwargs.items():\n",
    "        if key == 'p1':\n",
    "            y += value\n",
    "        elif key == 'p2':\n",
    "            y += value**2\n",
    "        elif key == 'p3':\n",
    "            y += value**3\n",
    "    return y"
   ]
  },
  {
   "cell_type": "code",
   "execution_count": null,
   "metadata": {},
   "outputs": [],
   "source": [
    "equation(1, p1=4, p2=2)"
   ]
  },
  {
   "cell_type": "code",
   "execution_count": null,
   "metadata": {},
   "outputs": [],
   "source": [
    "equation(1, p1=4, p2=2, foo=4, bar=1)"
   ]
  }
 ],
 "metadata": {
  "kernelspec": {
   "display_name": "Python 3",
   "language": "python",
   "name": "python3"
  },
  "language_info": {
   "codemirror_mode": {
    "name": "ipython",
    "version": 3
   },
   "file_extension": ".py",
   "mimetype": "text/x-python",
   "name": "python",
   "nbconvert_exporter": "python",
   "pygments_lexer": "ipython3",
   "version": "3.11.1 (tags/v3.11.1:a7a450f, Dec  6 2022, 19:58:39) [MSC v.1934 64 bit (AMD64)]"
  },
  "vscode": {
   "interpreter": {
    "hash": "aa5fa50d9e46137dc8a3910617bb52347d237e3089c5c25d53e638034e85f97f"
   }
  }
 },
 "nbformat": 4,
 "nbformat_minor": 4
}
