{
 "cells": [
  {
   "cell_type": "markdown",
   "metadata": {},
   "source": [
    "# Exercises 2: Working with functions\n",
    "\n",
    "### Tallsammenlikning: if-premiss\n",
    "Lag en funksjon `in_range(x,a,b)` for a sjekke om et tall `x` er innefor et gitt tallområde `a` til `b`.\n",
    "\n",
    "Eks:\n",
    "- `in_range(4,1,9)`-->`True`\n",
    "- `in_range(-2,1,9)`-->`False`"
   ]
  },
  {
   "cell_type": "code",
   "execution_count": null,
   "metadata": {},
   "outputs": [],
   "source": [
    "# your code here"
   ]
  },
  {
   "cell_type": "code",
   "execution_count": null,
   "metadata": {},
   "outputs": [],
   "source": [
    "def in_range(a,start_range,end_range):\n",
    "    if a>=start_range and a<=end_range:\n",
    "        return True\n",
    "    else: \n",
    "        return False\n",
    "\n",
    "def i_r(x, a, b):\n",
    "    return x >= a and x <= b\n",
    "\n",
    "print(in_range(3,1,5))\n",
    "print(i_r(3,1,5))"
   ]
  },
  {
   "cell_type": "markdown",
   "metadata": {},
   "source": [
    "### Oddetall: for-løkke og if-premiss\n",
    "Lag en funksjon `odd_numbers` som tar en liste med tall som argument og returnerer alle oddetallene i form av en ny liste\n",
    "\n",
    "Eks: \n",
    "- `odd_numbers([1, 2, 3, 4, 5, 6, 7, 8])`-->`[1, 3, 5, 7]`"
   ]
  },
  {
   "cell_type": "code",
   "execution_count": null,
   "metadata": {},
   "outputs": [],
   "source": [
    "# your code here"
   ]
  },
  {
   "cell_type": "code",
   "execution_count": null,
   "metadata": {},
   "outputs": [],
   "source": [
    "def odd_numbers(x):\n",
    "    only_odds=[]\n",
    "    for num in x:\n",
    "        if(num%2 != 0):\n",
    "            only_odds.append(num)\n",
    "    return only_odds\n",
    "\n",
    "def o_n(x):\n",
    "    return [num for num in x if(num%2 != 0)]\n",
    "\n",
    "print(odd_numbers([1,2,3,4,5,6,7,8]))\n",
    "print(o_n([1,2,3,4,5,6,7,8]))\n"
   ]
  },
  {
   "cell_type": "markdown",
   "metadata": {},
   "source": [
    "### Reverser string\n",
    "Skriv en funksjon `reverse_string` som reverserer en setning, bokstav for bokstav. Returner den reverserte stringen. \n",
    "\n",
    "Eks: \n",
    "- `reverse_string('Hei på deg')`--> `'!ged åp ieH'`\n",
    "\n",
    "**Hint** https://stackoverflow.com/questions/509211/understanding-slicing)"
   ]
  },
  {
   "cell_type": "code",
   "execution_count": null,
   "metadata": {},
   "outputs": [],
   "source": [
    "# your code here"
   ]
  },
  {
   "cell_type": "code",
   "execution_count": null,
   "metadata": {},
   "outputs": [],
   "source": [
    "def reverse_string(str):\n",
    "    reversed=str[::-1]  # slicing a string: [start:stop:step]\n",
    "    return reversed\n",
    "\n",
    "def r_s(s):\n",
    "    return s[::-1]\n",
    "\n",
    "print(reverse_string(\"hei på deg\"))\n",
    "print(r_s(\"hei på deg\"))"
   ]
  },
  {
   "cell_type": "markdown",
   "metadata": {},
   "source": [
    "### Mer stringbehandling\n",
    "Lag en funksjon `is_palindrome` som tar en string som argument og returnerer `True` hvis stringen er et *palindrom*. Ellers returnerer den `False`.\n",
    "\n",
    "\n",
    "Et *palindrom* er et ord, uttrykk eller tall som gir samme resultat enten det leses fra høyre eller venstre (man ser vanligvis bort fra mellomrom og tegnsetting mellom bokstavene).\n",
    "\n",
    "Eks: \n",
    "- `is_palindrome('madam')`-->`True`\n",
    "- `is_palindrome('Nurses run')`-->`True`\n",
    "\n",
    "**Hint** \"A\" leses ikke som \"a\" og må konverteres for at Python skal forstå at de er samme bokstav. `.lower()` er en funksjon som tilhører alle stringer\n",
    "\n",
    "**Hint**  Mellomrom leses som et tegn. Slicing([start:stop:step]) kan være nyttig i tilknytning til dette problemet"
   ]
  },
  {
   "cell_type": "code",
   "execution_count": null,
   "metadata": {},
   "outputs": [],
   "source": [
    "# your code here"
   ]
  },
  {
   "cell_type": "code",
   "execution_count": null,
   "metadata": {},
   "outputs": [],
   "source": [
    "import string\n",
    "\n",
    "def is_palindrome(word):\n",
    "    low_wo_translation = word.translate(str.maketrans('','', string.punctuation))\n",
    "    low_word = low_wo_translation.lower()   # all chars in lower letter\n",
    "    low_split = low_word.split()  # splits all words into a list (['nurses', 'run'])\n",
    "    stripped_chars = (\"\").join(low_split) # joins all char into a slim string ('nursesrun')\n",
    "    reversed = stripped_chars[::-1]\n",
    "    if stripped_chars == reversed:\n",
    "        return True\n",
    "    else:\n",
    "        return False\n",
    "\n",
    "import re\n",
    "\n",
    "def i_p(w):\n",
    "    return re.sub('\\W+','', w ).lower() == re.sub('\\W+','', w ).lower()[::-1]\n",
    "\n",
    "print(is_palindrome(\"Nurses run!\"))\n",
    "print(i_p(\"Nurses run!\"))"
   ]
  },
  {
   "cell_type": "markdown",
   "metadata": {},
   "source": [
    "### Kalkulering av potens: default-verdier\n",
    "Lag en funksjon `power` som kalkulerer potensen av et grunntall gitt en eksponent, der eksponenten er et valgfritt argument som vil få verdien 2 om ikke annet blir gitt.\n",
    "\n",
    "Eks: \n",
    "- `power(3)`-->`9`\n",
    "- `power(3,2)`-->`9`\n",
    "- `power(3,3)`-->`27`"
   ]
  },
  {
   "cell_type": "code",
   "execution_count": null,
   "metadata": {},
   "outputs": [],
   "source": [
    "# your code here"
   ]
  },
  {
   "cell_type": "code",
   "execution_count": null,
   "metadata": {},
   "outputs": [],
   "source": [
    "def power(base,exponent=2):\n",
    "    return base**exponent\n",
    "\n",
    "def p(b,e=2):\n",
    "    return b**e\n",
    "\n",
    "print(power(4,5))\n",
    "print(p(4,5))"
   ]
  },
  {
   "cell_type": "markdown",
   "metadata": {},
   "source": [
    "### Største tall: *args\n",
    "Lag en funksjon `max_val` for å finne maksverdien blant en vilkårlig antall tall.\n",
    "\n",
    "Eks: \n",
    "- `max_val(3,4,5,1,8,6)`-->`8`\n",
    "- `max_val(100,38)`-->`100`"
   ]
  },
  {
   "cell_type": "code",
   "execution_count": null,
   "metadata": {},
   "outputs": [],
   "source": [
    "# your code here"
   ]
  },
  {
   "cell_type": "code",
   "execution_count": null,
   "metadata": {},
   "outputs": [],
   "source": [
    "def max_val(*args):\n",
    "    max=0\n",
    "    for a in args:\n",
    "        if a>max:\n",
    "            max=a\n",
    "    return max\n",
    "\n",
    "def m_v(*args):\n",
    "    return max(*args)\n",
    "\n",
    "print(max([3,4,5,1,2,3,8,3]))\n",
    "print(m_v([3,4,5,1,2,3,8,3]))"
   ]
  },
  {
   "cell_type": "markdown",
   "metadata": {},
   "source": [
    "### Trafikkstasjon: **kwargs\n",
    "Lag en funksjon `most_traffic` som tar inn navn på trafikkstasjoner med tilhørende antall passerende kjøretøy ila den siste timen. Returner navnet på stasjonen med mest trafikk.\n",
    "\n",
    "Eks:\n",
    "- `most_traffic(Rena=458, Brumundal=92, Fåvang=732, Stjørdal=43)`-->`'Fåvang'`"
   ]
  },
  {
   "cell_type": "code",
   "execution_count": null,
   "metadata": {},
   "outputs": [],
   "source": [
    "# your code here"
   ]
  },
  {
   "cell_type": "code",
   "execution_count": null,
   "metadata": {},
   "outputs": [],
   "source": [
    "def most_traffic(**kwargs):\n",
    "    max=0\n",
    "    station=\"\"\n",
    "    for k, v in kwargs.items():\n",
    "        if v > max:\n",
    "            max=v\n",
    "            station=k\n",
    "    return station\n",
    "\n",
    "most_traffic(Rena=458, Brumundal=92, Fåvang=732, Stjørdal=43)"
   ]
  },
  {
   "cell_type": "markdown",
   "metadata": {},
   "source": [
    "### Reverser setning\n",
    "Write a function `master_yoda` that returns a sentence with the words reversed, e.g. `master_yoda(\"I am home\")` returns \"home am I\"\n",
    "\n",
    "Eks: \n",
    "- `master_yoda('I am home')`-->`'home am I'`\n",
    "\n",
    "**Hint:** `'This is a sentence'.split()` returns a list `['This', 'is', 'a', 'sentence']`"
   ]
  },
  {
   "cell_type": "code",
   "execution_count": null,
   "metadata": {},
   "outputs": [],
   "source": [
    "# your code here"
   ]
  },
  {
   "cell_type": "code",
   "execution_count": null,
   "metadata": {},
   "outputs": [],
   "source": [
    "def master_yoda(sentence):\n",
    "    sentence= sentence.split()\n",
    "    reversed_list=sentence[::-1]\n",
    "    reversed_sentence=\" \".join(reversed_list)\n",
    "    return reversed_sentence\n",
    "\n",
    "master_yoda(\"I am home\")"
   ]
  },
  {
   "cell_type": "markdown",
   "metadata": {},
   "source": [
    "### Matematiske funksjoner: Automatiser metode vha biblioteker\n",
    "Gitt et polynom av andre orden \n",
    "\n",
    "(ax^2 + bx + c = 0)\n",
    "\n",
    "Lag en funksjon `abc_calculator`som tar inn argumentene `a`, `b` og `c` og returnerer de to løsningene for x.\n",
    "\n",
    "Eks:\n",
    "- `abc_calculator(1,2,1)`-->`(-1,-1)`\n",
    "\n",
    "**Hint** Bruk biblioteket `math` for å regne ut kvadratrot(`sqrt`) og potens(`pow`) \n",
    "\n",
    "![alt text](abcformel.png \"ABC-formelen\")"
   ]
  },
  {
   "cell_type": "code",
   "execution_count": null,
   "metadata": {},
   "outputs": [],
   "source": [
    "# your code here"
   ]
  },
  {
   "cell_type": "code",
   "execution_count": null,
   "metadata": {},
   "outputs": [],
   "source": [
    "from math import sqrt, pow\n",
    "\n",
    "def abc_calculator(a,b,c):\n",
    "    if pow(b,2) - 4*a*c < 0:\n",
    "        return 'No valid answer'\n",
    "    x1 = (-b + sqrt(pow(b,2) - 4*a*c)) / (2*a)\n",
    "    x2 = (-b - sqrt(pow(b,2) - 4*a*c)) / (2*a)\n",
    "    return (x1, x2)\n",
    "\n",
    "abc_calculator(3,8,2)"
   ]
  },
  {
   "cell_type": "markdown",
   "metadata": {},
   "source": [
    "### Kortspill: for-løkke og tyding av andres funksjoner\n",
    "Lag en funksjon `deal_cards` som bruker en standard kortstokk gitt som konstanten `CARD_DECK` til å dele ut et gitt antall tilfeldige kort til et gitt antall spillere. \n",
    "\n",
    "Default 3 spillere og 2 kort per spiller. Returnerer en liste der hver hånd med kort er representert som en egen liste.\n",
    "\n",
    "Eks: \n",
    "- `deal_cards(CARD_DECK, players=3, cards=2)`\n",
    "-->\n",
    "```\n",
    "    [\n",
    "        ['Spades 12','Hearts 4'], \n",
    "        ['Spades 5', 'Clubs 13'], \n",
    "        ['Diamonds 9', 'Diamonds 10']\n",
    "    ]\n",
    "```\n",
    "\n",
    "**Hint** Se på funksjonen `card_deck_creator` for å forstå hvordan kortene og `CARD_DECK` ser ut.\n",
    "\n",
    "**Hint** `random.shuffle()` sorterer en liste gitt som input i tilfeldig rekkefølge. Biblioteket `random` må importeres"
   ]
  },
  {
   "cell_type": "code",
   "execution_count": null,
   "metadata": {},
   "outputs": [],
   "source": [
    "SUITS = ['Spades','Hearts','Diamonds','Clubs']\n",
    "VALUES = range(1,14)\n",
    "\n",
    "def card_deck_creator(suits, values):\n",
    "    card_deck=[]\n",
    "    for s in suits:\n",
    "        for v in values:\n",
    "            card_deck.append(s + ' ' + str(v))\n",
    "    return card_deck\n",
    "\n",
    "CARD_DECK=card_deck_creator(SUITS,VALUES)"
   ]
  },
  {
   "cell_type": "code",
   "execution_count": null,
   "metadata": {},
   "outputs": [],
   "source": [
    "# your code here"
   ]
  },
  {
   "cell_type": "code",
   "execution_count": null,
   "metadata": {},
   "outputs": [],
   "source": [
    "def random_hand(n=4):\n",
    "    \"\"\" Returns a random hand of cards. By default 4 cards.\"\"\"\n",
    "    random.shuffle(CARD_DECK)   # shuffles the deck\n",
    "    hand=[]\n",
    "    for i in range(n):  # fills a list of n random cards to represent a hand of dealt card\n",
    "        hand.append(CARD_DECK[i])   \n",
    "    return hand\n",
    "\n",
    "print(random_hand())"
   ]
  },
  {
   "cell_type": "markdown",
   "metadata": {},
   "source": [
    "### Enkel kalkulator: *args og if-setninger\n",
    "Skriv en funksjon 'simple_calculator' som tar inn et vilkårlig antall argumenter i tillegg til en string som representerer en matematisk metode for hva man ønsker å gjøre med argumentene som kommer før. Man skal kunne velge mellom metodene: `'subtract'`,`'add'`,`'multiply'`. Om man forsøker å gi andre metoder som input, vil man få returnert en string `'Unknown method'`.\n",
    "\n",
    "Eks: \n",
    "- `simple_calculator(100, 9, 15, method='subtract')`-->`76`\n",
    "- `simple_calculator(3, 2, 5, method='multiply')`-->`30`\n",
    "- `simple_calculator(3, 2, 5, method='divide')`-->`'Unknown method'`"
   ]
  },
  {
   "cell_type": "code",
   "execution_count": null,
   "metadata": {},
   "outputs": [],
   "source": [
    "# your code here"
   ]
  },
  {
   "cell_type": "markdown",
   "metadata": {},
   "source": [
    "### Markdowntabell: **kwargs og overskriving av stringer \n",
    "Write a function `keyword_arguments_to_table` that takes an arbitrary number of keyword arguments and returns them in a markdown table. \n",
    "Markdown table syntax:\n",
    "```\n",
    "| key | value |\n",
    "|----|----|\n",
    "| argument name | argument value |\n",
    "| argument name | argument value |\n",
    "| argument name | argument value |\n",
    "```\n",
    "\n",
    "Eks:\n",
    "- `keyword_arguments_to_table(Ole=32, Dole=21, Doffen=30)`\n",
    "-->\n",
    "```\n",
    "| key | value |\n",
    "|----|----|\n",
    "| Ole | 32 |\n",
    "| Dole | 21 |\n",
    "| Doffen | 30 |\n",
    "```\n",
    "\n",
    "**Hint** < br /> i en string vil indikere linjeskift i Markdown\n"
   ]
  },
  {
   "cell_type": "code",
   "execution_count": null,
   "metadata": {},
   "outputs": [],
   "source": [
    "# your code here"
   ]
  },
  {
   "cell_type": "code",
   "execution_count": null,
   "metadata": {},
   "outputs": [],
   "source": [
    "def keyword_arguments_to_table(**kwargs):\n",
    "    table=('| {} | {} |<br />'.format(\"key\",\"value\"))\n",
    "    table+=('|----|----|<br />')\n",
    "    for k,v in kwargs.items():\n",
    "        table+=('| {} | {} |<br />'.format(k,v))\n",
    "    return table\n",
    "\n",
    "keyword_arguments_to_table(Ole= 32, Dole= 21, Doffen= 32)"
   ]
  }
 ],
 "metadata": {
  "kernelspec": {
   "display_name": "Python 3 (ipykernel)",
   "language": "python",
   "name": "python3"
  },
  "language_info": {
   "codemirror_mode": {
    "name": "ipython",
    "version": 3
   },
   "file_extension": ".py",
   "mimetype": "text/x-python",
   "name": "python",
   "nbconvert_exporter": "python",
   "pygments_lexer": "ipython3",
   "version": "3.9.12"
  },
  "vscode": {
   "interpreter": {
    "hash": "38cca0c38332a56087b24af0bc80247f4fced29cb4f7f437d91dc159adec9c4e"
   }
  }
 },
 "nbformat": 4,
 "nbformat_minor": 4
}
