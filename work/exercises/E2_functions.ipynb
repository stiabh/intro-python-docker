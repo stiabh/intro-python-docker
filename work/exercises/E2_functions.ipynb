{
 "cells": [
  {
   "cell_type": "markdown",
   "metadata": {},
   "source": [
    "# Exercises 2: Working with functions\n",
    "\n",
    "### Tallsammenlikning: if-premiss\n",
    "Lag en funksjon `in_range(x,a,b)` for a sjekke om et tall `x` er innefor et gitt tallområde `a` til `b`.\n",
    "\n",
    "Eks:\n",
    "- `in_range(4,1,9)`-->`True`\n",
    "- `in_range(-2,1,9)`-->`False`"
   ]
  },
  {
   "cell_type": "code",
   "execution_count": null,
   "metadata": {},
   "outputs": [],
   "source": [
    "# your code here"
   ]
  },
  {
   "cell_type": "markdown",
   "metadata": {},
   "source": [
    "### Oddetall: for-løkke og if-premiss\n",
    "Lag en funksjon `odd_numbers` som tar en liste med tall som argument og returnerer alle oddetallene i form av en ny liste\n",
    "\n",
    "Eks: \n",
    "- `odd_numbers([1, 2, 3, 4, 5, 6, 7, 8])`-->`[1, 3, 5, 7]`"
   ]
  },
  {
   "cell_type": "code",
   "execution_count": null,
   "metadata": {},
   "outputs": [],
   "source": [
    "# your code here"
   ]
  },
  {
   "cell_type": "markdown",
   "metadata": {},
   "source": [
    "### Reverser string\n",
    "Skriv en funksjon `reverse_string` som reverserer en setning, bokstav for bokstav. Returner den reverserte stringen. \n",
    "\n",
    "Eks: \n",
    "- `reverse_string('Hei på deg')`--> `'!ged åp ieH'`\n",
    "\n",
    "**Hint** https://stackoverflow.com/questions/509211/understanding-slicing)"
   ]
  },
  {
   "cell_type": "code",
   "execution_count": null,
   "metadata": {},
   "outputs": [],
   "source": [
    "# your code here"
   ]
  },
  {
   "cell_type": "markdown",
   "metadata": {},
   "source": [
    "### Mer stringbehandling\n",
    "Lag en funksjon `is_palindrome` som tar en string som argument og returnerer `True` hvis stringen er et *palindrom*. Ellers returnerer den `False`.\n",
    "\n",
    "\n",
    "Et *palindrom* er et ord, uttrykk eller tall som gir samme resultat enten det leses fra høyre eller venstre (man ser vanligvis bort fra mellomrom og tegnsetting mellom bokstavene).\n",
    "\n",
    "Eks: \n",
    "- `is_palindrome('madam')`-->`True`\n",
    "- `is_palindrome('Nurses run')`-->`True`\n",
    "\n",
    "**Hint** \"A\" leses ikke som \"a\" og må konverteres for at Python skal forstå at de er samme bokstav. `.lower()` er en funksjon som tilhører alle stringer\n",
    "\n",
    "**Hint**  Mellomrom leses som et tegn. Slicing([start:stop:step]) kan være nyttig i tilknytning til dette problemet"
   ]
  },
  {
   "cell_type": "code",
   "execution_count": null,
   "metadata": {},
   "outputs": [],
   "source": [
    "# your code here"
   ]
  },
  {
   "cell_type": "markdown",
   "metadata": {},
   "source": [
    "### Kalkulering av potens: default-verdier\n",
    "Lag en funksjon `power` som kalkulerer potensen av et grunntall gitt en eksponent, der eksponenten er et valgfritt argument som vil få verdien 2 om ikke annet blir gitt.\n",
    "\n",
    "Eks: \n",
    "- `power(3)`-->`9`\n",
    "- `power(3,2)`-->`9`\n",
    "- `power(3,3)`-->`27`"
   ]
  },
  {
   "cell_type": "code",
   "execution_count": null,
   "metadata": {},
   "outputs": [],
   "source": [
    "# your code here"
   ]
  },
  {
   "cell_type": "markdown",
   "metadata": {},
   "source": [
    "### Største tall: *args\n",
    "Lag en funksjon `max_val` for å finne maksverdien blant en vilkårlig antall tall.\n",
    "\n",
    "Eks: \n",
    "- `max_val(3,4,5,1,8,6)`-->`8`\n",
    "- `max_val(100,38)`-->`100`"
   ]
  },
  {
   "cell_type": "code",
   "execution_count": null,
   "metadata": {},
   "outputs": [],
   "source": [
    "# your code here"
   ]
  },
  {
   "cell_type": "markdown",
   "metadata": {},
   "source": [
    "### Trafikkstasjon: **kwargs\n",
    "Lag en funksjon `most_traffic` som tar inn navn på trafikkstasjoner med tilhørende antall passerende kjøretøy ila den siste timen. Returner navnet på stasjonen med mest trafikk.\n",
    "\n",
    "Eks:\n",
    "- `most_traffic(Rena=458, Brumundal=92, Fåvang=732, Stjørdal=43)`-->`'Fåvang'`"
   ]
  },
  {
   "cell_type": "code",
   "execution_count": null,
   "metadata": {},
   "outputs": [],
   "source": [
    "# your code here"
   ]
  },
  {
   "cell_type": "markdown",
   "metadata": {},
   "source": [
    "### Reverser setning\n",
    "Write a function `master_yoda` that returns a sentence with the words reversed, e.g. `master_yoda(\"I am home\")` returns \"home am I\"\n",
    "\n",
    "Eks: \n",
    "- `master_yoda('I am home')`-->`'home am I'`\n",
    "\n",
    "**Hint:** `'This is a sentence'.split()` returns a list `['This', 'is', 'a', 'sentence']`"
   ]
  },
  {
   "cell_type": "code",
   "execution_count": null,
   "metadata": {},
   "outputs": [],
   "source": [
    "# your code here"
   ]
  },
  {
   "cell_type": "markdown",
   "metadata": {},
   "source": [
    "### Matematiske funksjoner: Automatiser metode vha biblioteker\n",
    "Gitt et polynom av andre orden \n",
    "\n",
    "(ax^2 + bx + c = 0)\n",
    "\n",
    "Lag en funksjon `abc_calculator`som tar inn argumentene `a`, `b` og `c` og returnerer de to løsningene for x.\n",
    "\n",
    "Eks:\n",
    "- `abc_calculator(1,2,1)`-->`(-1,-1)`\n",
    "\n",
    "**Hint** Bruk biblioteket `math` for å regne ut kvadratrot(`sqrt`) og potens(`pow`) \n",
    "\n",
    "![alt text](abcformel.png \"ABC-formelen\")"
   ]
  },
  {
   "cell_type": "code",
   "execution_count": null,
   "metadata": {},
   "outputs": [],
   "source": [
    "# your code here"
   ]
  },
  {
   "cell_type": "markdown",
   "metadata": {},
   "source": [
    "### Kortspill: for-løkke og tyding av andres funksjoner\n",
    "Lag en funksjon `deal_cards` som bruker en standard kortstokk gitt som konstanten `CARD_DECK` til å dele ut et gitt antall tilfeldige kort til et gitt antall spillere. \n",
    "\n",
    "Default 3 spillere og 2 kort per spiller. Returnerer en liste der hver hånd med kort er representert som en egen liste.\n",
    "\n",
    "Eks: \n",
    "- `deal_cards(CARD_DECK, players=3, cards=2)`\n",
    "-->\n",
    "```\n",
    "    [\n",
    "        ['Spades 12','Hearts 4'], \n",
    "        ['Spades 5', 'Clubs 13'], \n",
    "        ['Diamonds 9', 'Diamonds 10']\n",
    "    ]\n",
    "```\n",
    "\n",
    "**Hint** Se på funksjonen `card_deck_creator` for å forstå hvordan kortene og `CARD_DECK` ser ut.\n",
    "\n",
    "**Hint** `random.shuffle()` sorterer en liste gitt som input i tilfeldig rekkefølge. Biblioteket `random` må importeres"
   ]
  },
  {
   "cell_type": "code",
   "execution_count": 113,
   "metadata": {},
   "outputs": [],
   "source": [
    "SUITS = ['Spades','Hearts','Diamonds','Clubs']\n",
    "VALUES = range(1,14)\n",
    "\n",
    "def card_deck_creator(suits, values):\n",
    "    card_deck=[]\n",
    "    for s in suits:\n",
    "        for v in values:\n",
    "            card_deck.append(s + ' ' + str(v))\n",
    "    return card_deck\n",
    "\n",
    "CARD_DECK=card_deck_creator(SUITS,VALUES)"
   ]
  },
  {
   "cell_type": "code",
   "execution_count": null,
   "metadata": {},
   "outputs": [],
   "source": [
    "# your code here"
   ]
  },
  {
   "cell_type": "markdown",
   "metadata": {},
   "source": [
    "### Enkel kalkulator: *args og if-setninger\n",
    "Skriv en funksjon 'simple_calculator' som tar inn et vilkårlig antall argumenter i tillegg til en string som representerer en matematisk metode for hva man ønsker å gjøre med argumentene som kommer før. Man skal kunne velge mellom metodene: `'subtract'`,`'add'`,`'multiply'`. Om man forsøker å gi andre metoder som input, vil man få returnert en string `'Unknown method'`.\n",
    "\n",
    "Eks: \n",
    "- `simple_calculator(100, 9, 15, method='subtract')`-->`76`\n",
    "- `simple_calculator(3, 2, 5, method='multiply')`-->`30`\n",
    "- `simple_calculator(3, 2, 5, method='divide')`-->`'Unknown method'`"
   ]
  },
  {
   "cell_type": "code",
   "execution_count": null,
   "metadata": {},
   "outputs": [],
   "source": [
    "# your code here"
   ]
  },
  {
   "cell_type": "markdown",
   "metadata": {},
   "source": [
    "### Markdowntabell: **kwargs og overskriving av stringer \n",
    "Write a function `keyword_arguments_to_table` that takes an arbitrary number of keyword arguments and returns them in a markdown table. \n",
    "Markdown table syntax:\n",
    "```\n",
    "| key | value |\n",
    "|----|----|\n",
    "| argument name | argument value |\n",
    "| argument name | argument value |\n",
    "| argument name | argument value |\n",
    "```\n",
    "\n",
    "Eks:\n",
    "- `keyword_arguments_to_table(Ole=32, Dole=21, Doffen=30)`\n",
    "-->\n",
    "```\n",
    "| key | value |\n",
    "|----|----|\n",
    "| Ole | 32 |\n",
    "| Dole | 21 |\n",
    "| Doffen | 30 |\n",
    "```\n",
    "\n",
    "**Hint** < br /> i en string vil indikere linjeskift i Markdown\n"
   ]
  },
  {
   "cell_type": "code",
   "execution_count": null,
   "metadata": {},
   "outputs": [],
   "source": [
    "# your code here"
   ]
  }
 ],
 "metadata": {
  "kernelspec": {
   "display_name": "Python 3.9.12",
   "language": "python",
   "name": "python3"
  },
  "language_info": {
   "codemirror_mode": {
    "name": "ipython",
    "version": 3
   },
   "file_extension": ".py",
   "mimetype": "text/x-python",
   "name": "python",
   "nbconvert_exporter": "python",
   "pygments_lexer": "ipython3",
   "version": "3.9.12"
  },
  "vscode": {
   "interpreter": {
    "hash": "38cca0c38332a56087b24af0bc80247f4fced29cb4f7f437d91dc159adec9c4e"
   }
  }
 },
 "nbformat": 4,
 "nbformat_minor": 4
}
