{
 "cells": [
  {
   "cell_type": "markdown",
   "metadata": {},
   "source": [
    "### (Notebook brukt til å gå gjennom temaet live)\n",
    "# Hvordan å skrive god kode"
   ]
  },
  {
   "cell_type": "markdown",
   "metadata": {},
   "source": [
    "- Eksplisitt er bedre enn implisitt\n",
    "- Enkelt er bedre enn komplekst\n",
    "- Flatt er bedre enn nøstet\n",
    "- Romslig er bedre enn kompakt\n",
    "- Lesbarhet teller!\n",
    "    - \"spesielle tilfeller\" er ofte ikke spesielle nok til å bryte reglene\n",
    "        - Til tross; praktisk gjennomførbart trumfer renhet\n",
    "- Feil(Error) skal **ikke** passere i stillhet (med mindre de er eksplisitt bedt om å gjøre det)\n",
    "- Det burde være en- og helst kun én, åpenbar måte å gjøre det på\n",
    "- Hvis en implementasjon er vanskelig å forklare, så er det en dårlig idé\n",
    "- Hvis en implementasjon er enkel å forklare, så er det muligens en god idé"
   ]
  },
  {
   "cell_type": "markdown",
   "metadata": {},
   "source": [
    "# Under er eksempler som har blitt skrevet feil for så å bli korrigert"
   ]
  },
  {
   "cell_type": "code",
   "execution_count": null,
   "metadata": {},
   "outputs": [],
   "source": [
    "def long_function_name(\n",
    "        var_ one, var_two, var_three,\n",
    "        var_four):\n",
    "    print(var_one)\n",
    "\n",
    "foo = long_function_name(\"var_one\", \"var_two\", \n",
    "                         \"var_three\", \"var_four\")\n",
    "\n",
    "foo = long_function_name(\n",
    "    \"var_one\", \"var_two\", \n",
    "    \"var_three\", \"var_four\")"
   ]
  },
  {
   "cell_type": "code",
   "execution_count": 2,
   "metadata": {},
   "outputs": [],
   "source": [
    "def do_something():\n",
    "    pass\n",
    "\n",
    "this_is_one_thing = True\n",
    "this_is_another_thing = True\n",
    "\n",
    "if (this_is_one_thing and\n",
    "        this_is_another_thing):\n",
    "    do_something()"
   ]
  },
  {
   "cell_type": "code",
   "execution_count": 3,
   "metadata": {},
   "outputs": [],
   "source": [
    "def some_function_that_takes_arguments(*args):\n",
    "    pass\n",
    "\n",
    "my_list = [\n",
    "    1, 2, 3,\n",
    "    4, 5, 6\n",
    "]\n",
    "\n",
    "res = some_function_that_takes_arguments(\n",
    "    'a', 'b', 'c',\n",
    "    'd', 'e', 'f'\n",
    "    )"
   ]
  },
  {
   "cell_type": "code",
   "execution_count": null,
   "metadata": {},
   "outputs": [],
   "source": [
    "with open('/path/to/some/random/file/that/you/want/to/read', 'r') as file_1,\n",
    "    open('/path/to/something/else', 'r') as file_2"
   ]
  },
  {
   "cell_type": "code",
   "execution_count": 4,
   "metadata": {},
   "outputs": [],
   "source": [
    "gross_wages = 200\n",
    "taxable_interest = 100\n",
    "dividends = 20\n",
    "qualified_dividends = 5\n",
    "tax_deduction = 5\n",
    "loan_interests = 3"
   ]
  },
  {
   "cell_type": "code",
   "execution_count": 5,
   "metadata": {},
   "outputs": [
    {
     "data": {
      "text/plain": [
       "108"
      ]
     },
     "execution_count": 5,
     "metadata": {},
     "output_type": "execute_result"
    }
   ],
   "source": [
    "income = gross_wages\n",
    "         + taxable_interest \n",
    "         + (dividends - qualified_dividends)\n",
    "         - tax_deduction\n",
    "         - loan_interests"
   ]
  },
  {
   "cell_type": "markdown",
   "metadata": {},
   "source": [
    "# Import\n",
    "- Hver import(pakker og biblioteker) skal skrives på en egen linje\n",
    "- Importer skal skrives på toppen av filen\n",
    "- Importer skal grupperes etter følgende:\n",
    "    - Standard biblioteker (os, sys, math)\n",
    "    - Tredjepartsbiblioteker (pandas, numpy, matplotlib, geopandas, seaborn)\n",
    "    - Lokale applikasjoner\n",
    "- **Ikke** importer * (from math import *)\n"
   ]
  },
  {
   "cell_type": "code",
   "execution_count": 9,
   "metadata": {},
   "outputs": [
    {
     "data": {
      "text/plain": [
       "'This function takes a list and return its first item.'"
      ]
     },
     "execution_count": 9,
     "metadata": {},
     "output_type": "execute_result"
    }
   ],
   "source": [
    "p = \"I pick double quotes\"\n",
    "q = 'I pick single quotes'\n",
    "r = 'Its a \"long\" way home'\n",
    "\n",
    "def something():\n",
    "    \"\"\"This function takes a list and return its first item.\"\"\"\n",
    "    print('something') # this line prints whatever\n",
    "    pass\n",
    "\n",
    "something.__doc__\n"
   ]
  },
  {
   "cell_type": "code",
   "execution_count": null,
   "metadata": {},
   "outputs": [],
   "source": [
    "spam(ham[1], {eggs: 2})\n",
    "\n",
    "foo = (0,)\n",
    "\n",
    "if x == 4 : print( x , y ) ; x , y = y , x\n",
    "if x == 4: print(x, y); x, y = y, x"
   ]
  },
  {
   "cell_type": "code",
   "execution_count": null,
   "metadata": {},
   "outputs": [],
   "source": [
    "# slicing[start:stop:step]\n",
    "ham[lower+offset : upper+offset]\n",
    "ham[1:9], ham[1:9], ham[1:9:3], ham[1:9:]\n",
    "ham[lower::step]\n",
    "ham[:upper]\n",
    "ham[: upper_fn(x) : step_fn(x)]"
   ]
  },
  {
   "cell_type": "code",
   "execution_count": null,
   "metadata": {},
   "outputs": [],
   "source": [
    "spam(1)\n",
    "dct['key'] = lst[index]\n",
    "\n",
    "x = 1 \n",
    "y = 2\n",
    "z1 = 3"
   ]
  },
  {
   "cell_type": "code",
   "execution_count": null,
   "metadata": {},
   "outputs": [],
   "source": [
    "def complex(real, imag=0.0):\n",
    "    a = 10\n",
    "    return magic(r=real, i=imag)"
   ]
  },
  {
   "cell_type": "code",
   "execution_count": null,
   "metadata": {},
   "outputs": [],
   "source": [
    "i = i + 1\n",
    "sub -= 1\n",
    "x = x*2 - 1\n",
    "hyp = a*b + c*d\n",
    "hyp2 = (a+b) * (c+d)"
   ]
  },
  {
   "cell_type": "markdown",
   "metadata": {},
   "source": [
    "- Variabelnavn er skrevet med små bokstaver (minuskel), med mindre det er en konstant (skrives med MAJUSKEL)\n",
    "- Funksjonsnavn er også med små bokstaver\n",
    "- Bruk _understrek_ for å splitte opp variabler og funksjoner\n"
   ]
  },
  {
   "cell_type": "code",
   "execution_count": 14,
   "metadata": {},
   "outputs": [
    {
     "name": "stdout",
     "output_type": "stream",
     "text": [
      "['Hearts 6', 'Hearts 10']\n",
      "Max value got changed to: 10\n",
      "The card that takes the trick is: 10 of Hearts\n"
     ]
    }
   ],
   "source": [
    "import random\n",
    "\n",
    "SUITS = ['Spades','Hearts','Diamonds','Clubs']\n",
    "VALUES = range(1,14)\n",
    "\n",
    "# This is a block comment.\n",
    "# It is a way of providing a more detailed explanation\n",
    "#\n",
    "# The following section creates a deck of cards as well as a random sampled hand of cards\n",
    "def card_deck_creator(suits, values):\n",
    "    \"\"\"Create a list containing a standard deck of 52 cards in format ['suit value', 'suit value',...].\"\"\"\n",
    "    card_deck=[]\n",
    "    for s in suits:\n",
    "        for v in values:\n",
    "            card_deck.append(s + ' ' + str(v))\n",
    "    return card_deck\n",
    "\n",
    "CARD_DECK=card_deck_creator(SUITS,VALUES)\n",
    " \n",
    "def random_hand(card_deck, n=4):\n",
    "    \"\"\"Return a list containing a random hand of cards. By default 4 cards.\"\"\"\n",
    "    random.shuffle(card_deck)   # shuffles the deck\n",
    "    hand=[]\n",
    "    for i in range(n):  # fills a list of n random cards to represent a hand of dealt card\n",
    "        hand.append(card_deck[i])   \n",
    "    return hand\n",
    "\n",
    "def get_trick(hand, debug=False):\n",
    "    \"\"\"Return the winning card of a trick.\"\"\"\n",
    "    current_suit, max_value = hand[0].split(\" \")\n",
    "    max_value=int(max_value)\n",
    "    for card in hand:\n",
    "        suit, value =card.split(\" \") # separate a card by suit and value\n",
    "        value=int(value) \n",
    "        if suit==current_suit and value>max_value:\n",
    "            max_value=value\n",
    "            if debug:\n",
    "                print('Max value got changed to: ' + str(max_value))\n",
    "    print('The card that takes the trick is: ' + str(max_value) + ' of ' + current_suit)    \n",
    "\n",
    "hand_of_10_cards = random_hand(CARD_DECK, n=2)\n",
    "print(hand_of_10_cards)\n",
    "get_trick(hand_of_10_cards, True)    "
   ]
  },
  {
   "cell_type": "code",
   "execution_count": null,
   "metadata": {},
   "outputs": [],
   "source": []
  }
 ],
 "metadata": {
  "kernelspec": {
   "display_name": "Python 3.9.12",
   "language": "python",
   "name": "python3"
  },
  "language_info": {
   "codemirror_mode": {
    "name": "ipython",
    "version": 3
   },
   "file_extension": ".py",
   "mimetype": "text/x-python",
   "name": "python",
   "nbconvert_exporter": "python",
   "pygments_lexer": "ipython3",
   "version": "3.9.12"
  },
  "orig_nbformat": 4,
  "vscode": {
   "interpreter": {
    "hash": "38cca0c38332a56087b24af0bc80247f4fced29cb4f7f437d91dc159adec9c4e"
   }
  }
 },
 "nbformat": 4,
 "nbformat_minor": 2
}
