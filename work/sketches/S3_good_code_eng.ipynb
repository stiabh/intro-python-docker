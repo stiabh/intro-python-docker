{
 "cells": [
  {
   "cell_type": "markdown",
   "metadata": {},
   "source": [
    "- Eksplisitt er bedre enn implisitt\n",
    "- Enkelt er bedre enn komplekst\n",
    "- Flatt er bedre enn nøstet\n",
    "- Romslig er bedre enn kompakt\n",
    "- Lesbarhet teller!\n",
    "    - \"Spesielle tilfeller\" er ikke spesielle nok til å bryte med reglene\n",
    "        - Til tross for at praktisk trumfer purity\n",
    "- Feil(Errorer) skal aldri passere i stillhet (med mindre de er eksplisitt bedt om å gjøre det)\n",
    "- Det burde vært en- og foretrukket kun én, åpenbar måte å gjøre det på\n",
    "- Hvis implementasjonen er vanskelig å forklare, så er det en dårlig idé.\n",
    "- Hvis implementasjonen er enkel å forklare, så er det muligens en god idé."
   ]
  },
  {
   "cell_type": "code",
   "execution_count": 54,
   "metadata": {},
   "outputs": [
    {
     "name": "stdout",
     "output_type": "stream",
     "text": [
      "var_one\n",
      "var_one\n",
      "var_one\n"
     ]
    }
   ],
   "source": [
    "#incorrect:\n",
    "def long_function_name2(\n",
    "    var_one, var_two, var_three,\n",
    "    var_four):\n",
    "    print(var_one)\n",
    "\n",
    "foo = long_function_name(\"var_one\",\"var_two\",\n",
    "    \"var_three\", \"var four\")\n",
    "\n",
    "#correct:\n",
    "def long_function_name(\n",
    "        var_one,var_two, var_three, \n",
    "        var_four):\n",
    "    print(var_one)\n",
    "\n",
    "foo = long_function_name(\"var_one\", \"var_two\",\n",
    "                         \"var_three\", \"var_four\")\n",
    "\n",
    "foo = long_function_name(\n",
    "    \"var_one\", \"var_two\",\n",
    "    \"var_three\", \"var_four\")\n"
   ]
  },
  {
   "cell_type": "code",
   "execution_count": 60,
   "metadata": {},
   "outputs": [],
   "source": [
    "def do_something():\n",
    "    pass\n",
    "\n",
    "this_is_one_thing= True\n",
    "that_is_another_thing= True\n",
    "\n",
    "if (this_is_one_thing and\n",
    "        that_is_another_thing):\n",
    "    # Since both conditions are true, we can do something.\n",
    "    do_something() \n",
    "\n",
    "if this_is_one_thing \\\n",
    "        and that_is_another_thing:\n",
    "    do_something()"
   ]
  },
  {
   "cell_type": "code",
   "execution_count": null,
   "metadata": {},
   "outputs": [],
   "source": [
    "\n",
    "def some_function_that_takes_arguments(*args):\n",
    "    pass\n",
    "\n",
    "my_list = [\n",
    "    1, 2, 3,\n",
    "    4, 5, 6\n",
    "]\n",
    "\n",
    "result = some_function_that_takes_arguments(\n",
    "    'a', 'b', 'c',\n",
    "    'd', 'e', 'f'\n",
    "    )\n"
   ]
  },
  {
   "cell_type": "code",
   "execution_count": null,
   "metadata": {},
   "outputs": [],
   "source": [
    "with open('/path/to/some/file/you/want/to/read') as file_1, \\\n",
    "    open('/path/to/some/file/being/written', 'w') as file_2:\n",
    "    file_2.write(file_1.read())"
   ]
  },
  {
   "cell_type": "code",
   "execution_count": 61,
   "metadata": {},
   "outputs": [],
   "source": [
    "gross_wages = 100\n",
    "taxable_interest = 100\n",
    "dividends = 20\n",
    "qualified_dividends = 5\n",
    "tax_deduction = 5\n",
    "loan_intereset = 3"
   ]
  },
  {
   "cell_type": "code",
   "execution_count": null,
   "metadata": {},
   "outputs": [],
   "source": [
    "income = (gross_wages + \n",
    "          taxable_interest + \n",
    "          (dividends - qualified_dividends) -\n",
    "          tax_deduction - \n",
    "          loan_intereset)\n",
    "\n",
    "income = (gross_wages \n",
    "            + taxable_interest \n",
    "            + (dividends - qualified_dividends) \n",
    "            - tax_deduction \n",
    "            - loan_intereset)"
   ]
  },
  {
   "cell_type": "markdown",
   "metadata": {},
   "source": [
    "- imports should usually be on separate lines, but specific objects from the same package can be imported on the same lines \n",
    "- imports are always put at the top of the file\n",
    "- imports should be grouped by the following order: \n",
    "    - standard libraries (os, math, sys, etc)\n",
    "    - related third party libraries (pandas, numpy, seaborn, geopandas)\n",
    "    - local application or library specific imports\n",
    "- Dont: from math import *. "
   ]
  },
  {
   "cell_type": "code",
   "execution_count": 64,
   "metadata": {},
   "outputs": [],
   "source": [
    "p = \"I pick double quotes\"\n",
    "q = 'I pick single qoutes'\n",
    "r = \"This was a 'really good' point\"\n",
    "\n",
    "doc = \"\"\"This is a docstring written correct.\"\"\"\n",
    "not_a_doc = '''This is not a docstring.'''\n"
   ]
  },
  {
   "cell_type": "code",
   "execution_count": null,
   "metadata": {},
   "outputs": [],
   "source": [
    "#whitespace before/after parenthesis\n",
    "\n",
    "#correct:\n",
    "spam(ham[1], {eggs: 2})\n",
    "#wrong:\n",
    "spam( ham[ 1 ], { eggs: 2 } )\n",
    "\n",
    "#correct:\n",
    "foo = (0,)\n",
    "#wrong:\n",
    "bar = (0, )\n",
    "\n",
    "\n",
    "#whitespace before comma, semicolon or colon\n",
    "\n",
    "#correct:\n",
    "if x == 4: print(x, y); x, y = y, x\n",
    "#wrong:\n",
    "if x == 4 : print(x , y ) ; x , y = y , x\n",
    "\n",
    "\n"
   ]
  },
  {
   "cell_type": "code",
   "execution_count": null,
   "metadata": {},
   "outputs": [],
   "source": [
    "#Slicing\n",
    "\n",
    "#Correct:\n",
    "ham[1:9], ham[1:9:3], ham[1::3], ham[1:9:]\n",
    "ham[lower:upper], ham[lower:upper:], \n",
    "ham[lower::step]\n",
    "ham[lower+offset : upper+offset]\n",
    "ham[: upper_fn(x) : step_fn(x)], ham[:: step_fn(x)]\n",
    "ham[lower + offset : upper + offset]\n",
    "ham[:upper]\n",
    "\n",
    "#Wrong:\n",
    "ham[lower + offset:upper + offset]\n",
    "ham[1: 9], ham[1 :9], ham[1:9 :3]\n",
    "ham[lower : : upper]\n",
    "ham[ : upper]\n"
   ]
  },
  {
   "cell_type": "code",
   "execution_count": null,
   "metadata": {},
   "outputs": [],
   "source": [
    "#correct:\n",
    "spam(1)\n",
    "#wrong:\n",
    "spam (1)\n",
    "\n",
    "#correct:\n",
    "dct['key'] = lst[index]\n",
    "#wrong:\n",
    "dct ['key'] = lst [index]"
   ]
  },
  {
   "cell_type": "code",
   "execution_count": null,
   "metadata": {},
   "outputs": [],
   "source": [
    "#correct:\n",
    "x = 1\n",
    "y = 2\n",
    "long_variable = 3\n",
    "#wrong:\n",
    "x             = 1\n",
    "y             = 2\n",
    "long_variable = 3"
   ]
  },
  {
   "cell_type": "markdown",
   "metadata": {},
   "source": [
    "Operators  should always be surrounded with a single space on either side: \n",
    "=\n",
    "+=, -=, *=\n",
    "==, !=, <,>, =<, in, not in, is, is not\n",
    "and, not, or\n"
   ]
  },
  {
   "cell_type": "code",
   "execution_count": 67,
   "metadata": {},
   "outputs": [
    {
     "data": {
      "text/plain": [
       "False"
      ]
     },
     "execution_count": 67,
     "metadata": {},
     "output_type": "execute_result"
    }
   ],
   "source": [
    "a = 2.0\n",
    "b = 2\n",
    "\n",
    "a == b\n",
    "a is b"
   ]
  },
  {
   "cell_type": "code",
   "execution_count": null,
   "metadata": {},
   "outputs": [],
   "source": [
    "#correct:\n",
    "from math import hypot\n",
    "\n",
    "\n",
    "i = i + 1\n",
    "submitted += 1\n",
    "x = x*2 - 1\n",
    "hypot2 = x*x + y*y\n",
    "c = (a+b) * (a-b)\n",
    "#wrong:\n",
    "i=i+1\n",
    "submitted +=1\n",
    "x = x * 2 - 1\n",
    "hypot2=  x * x + y * y\n",
    "c = (a + b) * (a - b)"
   ]
  },
  {
   "cell_type": "code",
   "execution_count": null,
   "metadata": {},
   "outputs": [],
   "source": [
    "#correct:\n",
    "def complex(real, imag=0.0):\n",
    "    return magic(r=real, i=imag)\n",
    "#wrong:\n",
    "def complex(real, imag = 0.0):\n",
    "    return magic(r = real, i = imag)\n",
    "\n"
   ]
  },
  {
   "cell_type": "markdown",
   "metadata": {},
   "source": [
    "Naming conventions:\n",
    "- Variable names are written in lower case, unless they are constant, then they are written in all-caps\n",
    "- Function names are written in lower case\n",
    "- Underscores (_) are used to separate words in variables and functions (do_something())\n",
    "\n"
   ]
  },
  {
   "cell_type": "code",
   "execution_count": 81,
   "metadata": {},
   "outputs": [
    {
     "name": "stdout",
     "output_type": "stream",
     "text": [
      "Max value got changed to: 11\n",
      "The card that takes the trick is: 11 of Diamonds\n"
     ]
    }
   ],
   "source": [
    "\n",
    "\n",
    "\n",
    "\n",
    "\n",
    "\n",
    "\n",
    "\n",
    "\n",
    "\n",
    "\n",
    "\n",
    "\n",
    "\n",
    "\n",
    "\n",
    "\n",
    "\n",
    "\n",
    "import random\n",
    "\n",
    "SUITS = ['Spades','Hearts','Diamonds','Clubs']\n",
    "VALUES = range(1,14)\n",
    "\n",
    "# This is a block comment.\n",
    "# It is a way of providing a more detailed explanation\n",
    "#\n",
    "# The following section creates a deck of cards as well as a random sampled hand of cards\n",
    "def card_deck_creator(suits, values):\n",
    "    \"\"\"Create a list containing a standard deck of 52 cards in format ['suit value', 'suit value',...].\"\"\"\n",
    "    card_deck=[]\n",
    "    for s in suits:\n",
    "        for v in values:\n",
    "            card_deck.append(s + ' ' + str(v))\n",
    "    return card_deck\n",
    "\n",
    "CARD_DECK=card_deck_creator(SUITS,VALUES)\n",
    " \n",
    "def random_hand(n=4):\n",
    "    \"\"\"Return a list containing a random hand of cards. \n",
    "      By default 4 cards.\"\"\"\n",
    "    random.shuffle(CARD_DECK)   # shuffles the deck\n",
    "    hand=[]\n",
    "    for i in range(n):  # fills a list of n random cards to represent a hand of dealt card\n",
    "        hand.append(CARD_DECK[i])   \n",
    "    return hand\n",
    "\n",
    "def get_trick(hand, debug=False):\n",
    "    \"\"\"Return the winning card of a trick.\"\"\"\n",
    "    current_suit, max_value = hand[0].split(\" \")\n",
    "    max_value=int(max_value)\n",
    "    for card in hand:\n",
    "        suit, value =card.split(\" \") # separate a card by suit and value\n",
    "        value=int(value) \n",
    "        if suit==current_suit and value>max_value:\n",
    "            max_value=value\n",
    "            if debug:\n",
    "                print('Max value got changed to: ' + str(max_value))\n",
    "    print('The card that takes the trick is: ' + str(max_value) + ' of ' + current_suit)    \n",
    "\n",
    "hand_of_10_cards = random_hand(10)\n",
    "get_trick(hand_of_10_cards, True)    "
   ]
  },
  {
   "cell_type": "code",
   "execution_count": 73,
   "metadata": {},
   "outputs": [
    {
     "name": "stdout",
     "output_type": "stream",
     "text": [
      "Return the winning card of a trick.\n",
      "Return a list containing a random hand of cards. \n",
      "      By default 4 cards.\n",
      "Create a list containing a standard deck of 52 cards in format ['suit value', 'suit value',...].\n"
     ]
    }
   ],
   "source": [
    "print(get_trick.__doc__)\n",
    "print(random_hand.__doc__)\n",
    "print(card_deck_creator.__doc__)"
   ]
  },
  {
   "cell_type": "markdown",
   "metadata": {},
   "source": [
    "\n",
    "\n",
    "gir verktøy for debugging\n",
    "    print\n",
    "    tankegang\n",
    "\n",
    "skrive øvinger på norsk\n",
    "enklere øvelser\n",
    "    spesielt args kwargs\n",
    "    enklere matematikk\n",
    "relevante eksempler (ikke)\n",
    "logging\n",
    "gå fra wrong example til correct, fremfor å skrive to bulker\n",
    "\n",
    "Bullet points for enklere gjennomgang for meg(simen)\n",
    "\n",
    "\n"
   ]
  }
 ],
 "metadata": {
  "kernelspec": {
   "display_name": "Python 3 (ipykernel)",
   "language": "python",
   "name": "python3"
  },
  "language_info": {
   "codemirror_mode": {
    "name": "ipython",
    "version": 3
   },
   "file_extension": ".py",
   "mimetype": "text/x-python",
   "name": "python",
   "nbconvert_exporter": "python",
   "pygments_lexer": "ipython3",
   "version": "3.9.12"
  },
  "vscode": {
   "interpreter": {
    "hash": "38cca0c38332a56087b24af0bc80247f4fced29cb4f7f437d91dc159adec9c4e"
   }
  }
 },
 "nbformat": 4,
 "nbformat_minor": 4
}
